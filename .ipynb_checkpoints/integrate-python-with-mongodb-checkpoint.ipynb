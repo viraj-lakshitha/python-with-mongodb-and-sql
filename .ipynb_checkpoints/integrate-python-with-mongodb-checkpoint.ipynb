{
 "cells": [
  {
   "cell_type": "markdown",
   "metadata": {},
   "source": [
    "# Intergrate Python with MongoDB\n",
    "For futher more informations : [Documentation](https://pymongo.readthedocs.io/en/stable/tutorial.html)"
   ]
  },
  {
   "cell_type": "markdown",
   "metadata": {},
   "source": [
    "### 1. Establish Connection and Make DB and Collections"
   ]
  },
  {
   "cell_type": "code",
   "execution_count": 1,
   "metadata": {},
   "outputs": [
    {
     "name": "stdout",
     "output_type": "stream",
     "text": [
      "Requirement already satisfied: pymongo in c:\\users\\my\\anaconda3\\lib\\site-packages (3.11.3)\n"
     ]
    }
   ],
   "source": [
    "# Install required Libraries for MongoDB Intergration\n",
    "!pip install pymongo"
   ]
  },
  {
   "cell_type": "code",
   "execution_count": 2,
   "metadata": {},
   "outputs": [],
   "source": [
    "import pymongo\n",
    "\n",
    "client = pymongo.MongoClient('mongodb://127.0.0.1:27017/')"
   ]
  },
  {
   "cell_type": "code",
   "execution_count": 3,
   "metadata": {},
   "outputs": [],
   "source": [
    "db = client['Employee'] # Create Database"
   ]
  },
  {
   "cell_type": "code",
   "execution_count": 4,
   "metadata": {},
   "outputs": [],
   "source": [
    "information = db.employeeInfo # Create Collection"
   ]
  },
  {
   "cell_type": "markdown",
   "metadata": {},
   "source": [
    "### 2. Basic Functions of MongoDB (insert_one, insert_many,)"
   ]
  },
  {
   "cell_type": "code",
   "execution_count": 5,
   "metadata": {},
   "outputs": [
    {
     "data": {
      "text/plain": [
       "<pymongo.results.InsertOneResult at 0x1c3a73e6a40>"
      ]
     },
     "execution_count": 5,
     "metadata": {},
     "output_type": "execute_result"
    }
   ],
   "source": [
    "# Insert Data to the Collection `insert_one()`\n",
    "records = {\n",
    "    \"_id\" : 20191157,\n",
    "    \"firstname\" : \"Viraj\",\n",
    "    \"lastname\" : \"Lakshitha\"\n",
    "}\n",
    "\n",
    "information.insert_one(records)"
   ]
  },
  {
   "cell_type": "code",
   "execution_count": 6,
   "metadata": {},
   "outputs": [
    {
     "data": {
      "text/plain": [
       "<pymongo.results.InsertManyResult at 0x1c3a73c6d00>"
      ]
     },
     "execution_count": 6,
     "metadata": {},
     "output_type": "execute_result"
    }
   ],
   "source": [
    "# Insert Multiple Data\n",
    "records = [\n",
    "    {\n",
    "        \"_id\" : 2015741,\n",
    "        \"firstname\" : \"Cristiano\",\n",
    "        \"lastname\" : \"Ronaldo\"\n",
    "    },\n",
    "    {\n",
    "        \"_id\" : 20201157,\n",
    "        \"firstname\" : \"John\",\n",
    "        \"lastname\" : \"Cena\"\n",
    "    },\n",
    "    {\n",
    "        \"_id\" : 20181157,\n",
    "        \"firstname\" : \"Alex\",\n",
    "        \"lastname\" : \"David\"\n",
    "    }\n",
    "]\n",
    "\n",
    "information.insert_many(records)"
   ]
  },
  {
   "cell_type": "markdown",
   "metadata": {},
   "source": [
    "### 3.Queries | JSON Documents"
   ]
  },
  {
   "cell_type": "code",
   "execution_count": 7,
   "metadata": {},
   "outputs": [
    {
     "data": {
      "text/plain": [
       "{'_id': 20191157, 'firstname': 'Viraj', 'lastname': 'Lakshitha'}"
      ]
     },
     "execution_count": 7,
     "metadata": {},
     "output_type": "execute_result"
    }
   ],
   "source": [
    "# Simple way of query\n",
    "information.find_one() # Select the top one record"
   ]
  },
  {
   "cell_type": "code",
   "execution_count": 8,
   "metadata": {},
   "outputs": [
    {
     "name": "stdout",
     "output_type": "stream",
     "text": [
      "{'_id': 20191157, 'firstname': 'Viraj', 'lastname': 'Lakshitha'}\n",
      "{'_id': 2015741, 'firstname': 'Cristiano', 'lastname': 'Ronaldo'}\n",
      "{'_id': 20201157, 'firstname': 'John', 'lastname': 'Cena'}\n",
      "{'_id': 20181157, 'firstname': 'Alex', 'lastname': 'David'}\n"
     ]
    }
   ],
   "source": [
    "# Print all the data\n",
    "for record in information.find({}):\n",
    "    print(record)"
   ]
  },
  {
   "cell_type": "code",
   "execution_count": 9,
   "metadata": {},
   "outputs": [
    {
     "name": "stdout",
     "output_type": "stream",
     "text": [
      "{'_id': 20201157, 'firstname': 'John', 'lastname': 'Cena'}\n"
     ]
    }
   ],
   "source": [
    "# Query the JSON document based on equality condition\n",
    "for record in information.find({\"firstname\": \"John\"}) :\n",
    "    print(record)"
   ]
  },
  {
   "cell_type": "code",
   "execution_count": 10,
   "metadata": {},
   "outputs": [
    {
     "name": "stdout",
     "output_type": "stream",
     "text": [
      "{'_id': 20191157, 'firstname': 'Viraj', 'lastname': 'Lakshitha'}\n",
      "{'_id': 20201157, 'firstname': 'John', 'lastname': 'Cena'}\n"
     ]
    }
   ],
   "source": [
    "# Query documents using query operators($in,$lt,$gt)\n",
    "for record in information.find({'lastname' : {'$in' : ['Lakshitha','Cena']}}):\n",
    "    print(record)"
   ]
  },
  {
   "cell_type": "code",
   "execution_count": 11,
   "metadata": {},
   "outputs": [
    {
     "name": "stdout",
     "output_type": "stream",
     "text": [
      "{'_id': 20191157, 'firstname': 'Viraj', 'lastname': 'Lakshitha'}\n"
     ]
    }
   ],
   "source": [
    "# Combination of AND and Query Operator --> To perform this _di should be int\n",
    "for record in information.find({'lastname' : 'Lakshitha', '_id':{'$lt':20191158}}) :\n",
    "    print(record)"
   ]
  },
  {
   "cell_type": "code",
   "execution_count": 12,
   "metadata": {},
   "outputs": [
    {
     "name": "stdout",
     "output_type": "stream",
     "text": [
      "{'_id': 20191157, 'firstname': 'Viraj', 'lastname': 'Lakshitha'}\n"
     ]
    }
   ],
   "source": [
    "# Combination of OR and Query Operator\n",
    "# $or - OR Operator\n",
    "# $and - AND Operator\n",
    "for record in information.find({'$or':[{'firstname':'Viraj'},{'lastname':'Lakshitha'}]}) :\n",
    "    print(record)"
   ]
  },
  {
   "cell_type": "code",
   "execution_count": 13,
   "metadata": {},
   "outputs": [],
   "source": [
    "# Create new collection\n",
    "inventory=db.inventory"
   ]
  },
  {
   "cell_type": "code",
   "execution_count": 14,
   "metadata": {},
   "outputs": [],
   "source": [
    "inventory.insert_many( [\n",
    "   { 'item': \"journal\", 'qty': 25, 'size': { 'h': 14, 'w': 21,'uom': \"cm\" }, 'status': \"A\" },\n",
    "   { 'item': \"notebook\", 'qty': 50,'size': { 'h': 8.5, 'w': 11,'uom': \"in\" },'status': \"A\" },\n",
    "   { 'item': \"paper\", 'qty': 100, 'size': { 'h': 8.5, 'w': 11,'uom': \"in\" },'status': \"D\" },\n",
    "   { 'item': \"planner\", 'qty': 75, 'size': { 'h': 22.85,'w': 30,'uom': \"cm\" },'status': \"D\" },\n",
    "   { 'item': \"postcard\", 'qty': 45, 'size': { 'h': 10, 'w': 15.25,'uom': \"cm\" },'status': \"A\" }\n",
    "]);"
   ]
  },
  {
   "cell_type": "code",
   "execution_count": 15,
   "metadata": {},
   "outputs": [
    {
     "name": "stdout",
     "output_type": "stream",
     "text": [
      "{'_id': ObjectId('605568e2e9d9eb01fd712f07'), 'item': 'journal', 'qty': 25, 'size': {'h': 14, 'w': 21, 'uom': 'cm'}, 'status': 'A'}\n"
     ]
    }
   ],
   "source": [
    "# Nested Values\n",
    "for records in inventory.find({'size': { 'h': 14, 'w': 21,'uom': \"cm\" }}):\n",
    "    print(records)"
   ]
  }
 ],
 "metadata": {
  "kernelspec": {
   "display_name": "Python 3",
   "language": "python",
   "name": "python3"
  },
  "language_info": {
   "codemirror_mode": {
    "name": "ipython",
    "version": 3
   },
   "file_extension": ".py",
   "mimetype": "text/x-python",
   "name": "python",
   "nbconvert_exporter": "python",
   "pygments_lexer": "ipython3",
   "version": "3.8.5"
  }
 },
 "nbformat": 4,
 "nbformat_minor": 4
}
